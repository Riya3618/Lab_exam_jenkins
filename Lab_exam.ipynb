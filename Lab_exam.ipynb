{
  "nbformat": 4,
  "nbformat_minor": 0,
  "metadata": {
    "colab": {
      "name": "Lab_exam.ipynb",
      "provenance": []
    },
    "kernelspec": {
      "name": "python3",
      "display_name": "Python 3"
    },
    "language_info": {
      "name": "python"
    }
  },
  "cells": [
    {
      "cell_type": "code",
      "execution_count": 1,
      "metadata": {
        "colab": {
          "base_uri": "https://localhost:8080/"
        },
        "id": "KqLY7ISYm2ZL",
        "outputId": "b6b6bb83-b9cb-42a4-c01c-5262f4142032"
      },
      "outputs": [
        {
          "output_type": "stream",
          "name": "stdout",
          "text": [
            "Courses and Credits\n",
            "HPC -4\n",
            "Seminar -1\n",
            "Capstone Design -1\n",
            "DevOps -3\n",
            "SPM -3\n",
            "Undergrad Research-2\n",
            "Communications-2\n",
            "Carrer Skills for IT companies-2\n"
          ]
        }
      ],
      "source": [
        "print(\"Courses and Credits\")\n",
        "print(\"HPC -4\")\n",
        "print(\"Seminar -1\")\n",
        "print(\"Capstone Design -1\")\n",
        "print(\"DevOps -3\")\n",
        "print(\"SPM -3\")\n",
        "print(\"Undergrad Research-2\")\n",
        "print(\"Communications-2\")\n",
        "print(\"Carrer Skills for IT companies-2\")"
      ]
    }
  ]
}